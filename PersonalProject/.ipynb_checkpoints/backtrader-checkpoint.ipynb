{
 "cells": [
  {
   "cell_type": "code",
   "execution_count": null,
   "metadata": {
    "collapsed": false
   },
   "outputs": [],
   "source": [
    "from datetime import datetime\n",
    "import backtrader as bt\n",
    "%matplotlib notebook"
   ]
  },
  {
   "cell_type": "code",
   "execution_count": null,
   "metadata": {
    "collapsed": false
   },
   "outputs": [],
   "source": [
    "class SmaCross(bt.SignalStrategy):\n",
    "    def __init__(self):\n",
    "        sma1, sma2 = bt.ind.SMA(period=10), bt.ind.SMA(period=30)\n",
    "        crossover = bt.ind.CrossOver(sma1, sma2)\n",
    "        self.signal_add(bt.SIGNAL_LONG, crossover)\n",
    "\n",
    "cerebro = bt.Cerebro()\n",
    "cerebro.addstrategy(SmaCross)\n",
    "\n",
    "data0 = bt.feeds.YahooFinanceData(dataname='600019.SS', fromdate=datetime(2011, 1, 1),\n",
    "                                  todate=datetime(2012, 12, 31))\n",
    "cerebro.adddata(data0)\n",
    "\n",
    "cerebro.run()\n",
    "f = cerebro.plot()"
   ]
  },
  {
   "cell_type": "code",
   "execution_count": null,
   "metadata": {
    "collapsed": true
   },
   "outputs": [],
   "source": [
    "class TestStrategy(bt.Strategy):\n",
    "    def log(self, txt, dt=None):\n",
    "        '''Logging function for this strategy'''\n",
    "        dt = dt or self.datas[0].datetime.date(0)\n",
    "        print '%s, %s' % (dt.isoformat(), txt)\n",
    "\n",
    "    def __init__(self):\n",
    "        self.dataclose = self.datas[0].close\n",
    "\n",
    "    def next(self):\n",
    "        self.log('Close, %.2f' % self.dataclose[0])\n",
    "\n",
    "        if self.dataclose[-2] > self.dataclose[-1] and self.dataclose[-1] > self.dataclose[0]:\n",
    "            self.buy()\n",
    "            self.log('Buy at %.2f' % self.dataclose[0])"
   ]
  },
  {
   "cell_type": "code",
   "execution_count": null,
   "metadata": {
    "collapsed": false
   },
   "outputs": [],
   "source": [
    "cebebro = bt.Cerebro()\n",
    "\n",
    "data = bt.feeds.YahooFinanceData(dataname='600019.SS', fromdate=datetime(1900, 1, 1),\n",
    "                                 todate=date_parser.parse('2000-12-31'), reverse=True)\n",
    "cebebro.adddata(data)\n",
    "cebebro.addstrategy(TestStrategy)\n",
    "cebebro.broker.set_cash(100)\n",
    "\n",
    "\n",
    "\n",
    "print 'Starting Portfolio value: %.2f' % cebebro.broker.getvalue()\n",
    "\n",
    "cebebro.run()\n",
    "\n",
    "print 'Final Portfolio value: %.2f' % cebebro.broker.getvalue()"
   ]
  },
  {
   "cell_type": "markdown",
   "metadata": {},
   "source": [
    "# Plot"
   ]
  },
  {
   "cell_type": "code",
   "execution_count": 5,
   "metadata": {
    "collapsed": false
   },
   "outputs": [],
   "source": [
    "import datetime\n",
    "\n",
    "import backtrader as bt\n",
    "from dateutil import parser as date_parser\n",
    "\n",
    "from matplotlib import pyplot as plt\n",
    "\n",
    "plt.switch_backend('Qt5Agg')\n",
    "\n",
    "class TestStrategy(bt.Strategy):\n",
    "    def log(self, txt, dt=None):\n",
    "        '''Logging function for this strategy'''\n",
    "        dt = dt or self.datas[0].datetime.date(0)\n",
    "        print '%s, %s' % (dt.isoformat(), txt)\n",
    "\n",
    "    def __init__(self, exitbars=None, maperiod=None):\n",
    "        self.dataclose = self.datas[0].close\n",
    "        self.order = None\n",
    "        self.buyprice = None\n",
    "        self.buycomm = None\n",
    "        self.params.exitbars = exitbars\n",
    "        self.params.maperiod = maperiod\n",
    "        self.sma = bt.indicators.MovingAverageSimple(self.datas[0], period=self.params.maperiod)\n",
    "\n",
    "        bt.indicators.ExponentialMovingAverage(self.datas[0], period=25)\n",
    "        bt.indicators.WeightedMovingAverage(self.datas[0], period=25, subplot=True)\n",
    "        bt.indicators.StochasticSlow(self.datas[0])\n",
    "        rsi = bt.indicators.RSI(self.datas[0])\n",
    "        bt.indicators.SmoothedMovingAverage(rsi, period=20)\n",
    "        bt.indicators.ATR(self.datas[0], plot=False)\n",
    "        bt.indicators.MACDHisto(self.datas[0])\n",
    "\n",
    "    def next(self):\n",
    "        self.log('Close, %.2f' % self.dataclose[0])\n",
    "\n",
    "        if self.order:\n",
    "            return\n",
    "\n",
    "        if not self.position:\n",
    "            if self.dataclose[0] > self.sma[0]:\n",
    "                self.order = self.buy()\n",
    "                self.log('Buy order created at %.2f' % self.dataclose[0])\n",
    "        else:\n",
    "            if self.dataclose[0] < self.sma[0]:\n",
    "                self.log('Sell order created at : %.2f' % self.dataclose[0])\n",
    "                self.order = self.sell()\n",
    "\n",
    "    def notify_order(self, order):\n",
    "        if order.status in [order.Submitted, order.Accepted]:\n",
    "            return\n",
    "\n",
    "        if order.status in [order.Completed, order.Canceled, order.Margin]:\n",
    "            if order.isbuy():\n",
    "                self.log('Buy order executed, price: %.2f, cost: %.2f, comm: %.2f' % (order.executed.price,\n",
    "                                                                                      order.executed.value,\n",
    "                                                                                      order.executed.comm))\n",
    "                self.buyprice = order.executed.price\n",
    "                self.buycomm = order.executed.comm\n",
    "\n",
    "            elif order.issell():\n",
    "                self.log('Sell order executed, price: %.2f, cost: %.2f, comm: %.2f' % (order.executed.price,\n",
    "                                                                                       order.executed.value,\n",
    "                                                                                       order.executed.comm))\n",
    "\n",
    "            self.bar_executed = len(self)\n",
    "\n",
    "        self.order = None\n",
    "\n",
    "    def notify_trade(self, trade):\n",
    "        if not trade.isclosed:\n",
    "            return\n",
    "\n",
    "        self.log('OPERATION profit: Gross: %.2f, Net: %.2f' % (trade.pnl, trade.pnlcomm))"
   ]
  },
  {
   "cell_type": "code",
   "execution_count": 12,
   "metadata": {
    "collapsed": false,
    "scrolled": true
   },
   "outputs": [
    {
     "name": "stdout",
     "output_type": "stream",
     "text": [
      "Starting Portfolio value: 100.00\n",
      "2001-06-29, MA Period: 15 Ending Value: 99.85\n",
      "Final Portfolio value: 99.85\n"
     ]
    },
    {
     "data": {
      "text/plain": [
       "[[<matplotlib.figure.Figure at 0x11c78b510>]]"
      ]
     },
     "execution_count": 12,
     "metadata": {},
     "output_type": "execute_result"
    }
   ],
   "source": [
    "cerebro = bt.Cerebro()\n",
    "\n",
    "data = bt.feeds.YahooFinanceData(dataname='600019.SS', fromdate=datetime.datetime(2000, 1, 1),\n",
    "                             todate=date_parser.parse('2001-06-30'), reverse=True)\n",
    "\n",
    "cerebro.adddata(data)\n",
    "cerebro.addsizer(bt.sizers.FixedSize, stake=5)\n",
    "cerebro.addstrategy(TestStrategy, maperiod=15)\n",
    "cerebro.broker.set_cash(100)\n",
    "cerebro.broker.setcommission(commission=0.001)\n",
    "print 'Starting Portfolio value: %.2f' % cerebro.broker.getvalue()\n",
    "\n",
    "cerebro.run()\n",
    "\n",
    "print 'Final Portfolio value: %.2f' % cerebro.broker.getvalue()\n",
    "cerebro.plot()"
   ]
  },
  {
   "cell_type": "markdown",
   "metadata": {},
   "source": [
    "# Optimization"
   ]
  },
  {
   "cell_type": "code",
   "execution_count": 7,
   "metadata": {
    "collapsed": true
   },
   "outputs": [],
   "source": [
    "import datetime\n",
    "\n",
    "import backtrader as bt\n",
    "from dateutil import parser as date_parser\n",
    "\n",
    "from matplotlib import pyplot as plt\n",
    "\n",
    "plt.switch_backend('Qt5Agg')\n",
    "\n",
    "class TestStrategy(bt.Strategy):\n",
    "    def log(self, txt, dt=None, doprint=False):\n",
    "        '''Logging function for this strategy'''\n",
    "        if self.params.printlog or doprint:\n",
    "            dt = dt or self.datas[0].datetime.date(0)\n",
    "            print '%s, %s' % (dt.isoformat(), txt)\n",
    "\n",
    "    def __init__(self, exitbars=None, maperiod=None, printlog=False):\n",
    "        self.dataclose = self.datas[0].close\n",
    "        self.order = None\n",
    "        self.buyprice = None\n",
    "        self.buycomm = None\n",
    "        self.params.exitbars = exitbars\n",
    "        self.params.maperiod = maperiod\n",
    "        self.params.printlog = printlog\n",
    "        self.sma = bt.indicators.MovingAverageSimple(self.datas[0], period=self.params.maperiod)\n",
    "\n",
    "    def next(self):\n",
    "        self.log('Close, %.2f' % self.dataclose[0])\n",
    "\n",
    "        if self.order:\n",
    "            return\n",
    "\n",
    "        if not self.position:\n",
    "            if self.dataclose[0] > self.sma[0]:\n",
    "                self.order = self.buy()\n",
    "                self.log('Buy order created at %.2f' % self.dataclose[0])\n",
    "        else:\n",
    "            if self.dataclose[0] < self.sma[0]:\n",
    "                self.log('Sell order created at : %.2f' % self.dataclose[0])\n",
    "                self.order = self.sell()\n",
    "\n",
    "    def notify_order(self, order):\n",
    "        if order.status in [order.Submitted, order.Accepted]:\n",
    "            return\n",
    "\n",
    "        if order.status in [order.Completed, order.Canceled, order.Margin]:\n",
    "            if order.isbuy():\n",
    "                self.log('Buy order executed, price: %.2f, cost: %.2f, comm: %.2f' % (order.executed.price,\n",
    "                                                                                      order.executed.value,\n",
    "                                                                                      order.executed.comm))\n",
    "                self.buyprice = order.executed.price\n",
    "                self.buycomm = order.executed.comm\n",
    "\n",
    "            elif order.issell():\n",
    "                self.log('Sell order executed, price: %.2f, cost: %.2f, comm: %.2f' % (order.executed.price,\n",
    "                                                                                       order.executed.value,\n",
    "                                                                                       order.executed.comm))\n",
    "\n",
    "            self.bar_executed = len(self)\n",
    "\n",
    "        self.order = None\n",
    "\n",
    "    def notify_trade(self, trade):\n",
    "        if not trade.isclosed:\n",
    "            return\n",
    "\n",
    "        self.log('OPERATION profit: Gross: %.2f, Net: %.2f' % (trade.pnl, trade.pnlcomm))\n",
    "        \n",
    "    def stop(self):\n",
    "        self.log('MA Period: %2d Ending Value: %.2f' % (self.params.maperiod, self.broker.getvalue()),\n",
    "                 doprint=True)"
   ]
  },
  {
   "cell_type": "code",
   "execution_count": 8,
   "metadata": {
    "collapsed": false
   },
   "outputs": [
    {
     "name": "stdout",
     "output_type": "stream",
     "text": [
      "2001-06-29, MA Period: 10 Ending Value: 101.24\n",
      "2001-06-29, MA Period: 12 Ending Value: 100.42\n",
      "2001-06-29, MA Period: 11 Ending Value: 100.30\n",
      "2001-06-29, MA Period: 13 Ending Value: 100.34\n",
      "2001-06-29, MA Period: 16 Ending Value: 99.85\n",
      "2001-06-29, MA Period: 15 Ending Value: 99.85\n",
      "2001-06-29, MA Period: 14 Ending Value: 100.19\n",
      "2001-06-29, MA Period: 17 Ending Value: 99.16\n",
      "2001-06-29, MA Period: 19 Ending Value: 99.42\n",
      "2001-06-29, MA Period: 23 Ending Value: 98.50\n",
      "2001-06-29, MA Period: 20 Ending Value: 98.45\n",
      "2001-06-29, MA Period: 18 Ending Value: 99.01\n",
      "2001-06-29, MA Period: 21 Ending Value: 98.40\n",
      "2001-06-29, MA Period: 24 Ending Value: 97.62\n",
      "2001-06-29, MA Period: 22 Ending Value: 97.97\n",
      "2001-06-29, MA Period: 25 Ending Value: 98.80\n",
      "2001-06-29, MA Period: 27 Ending Value: 97.60\n",
      "2001-06-29, MA Period: 30 Ending Value: 97.84\n",
      "2001-06-29, MA Period: 28 Ending Value: 97.29\n",
      "2001-06-29, MA Period: 26 Ending Value: 97.50\n",
      "2001-06-29, MA Period: 29 Ending Value: 97.54\n"
     ]
    },
    {
     "ename": "AttributeError",
     "evalue": "'OptReturn' object has no attribute 'datas'",
     "output_type": "error",
     "traceback": [
      "\u001b[0;31m---------------------------------------------------------------------------\u001b[0m",
      "\u001b[0;31mAttributeError\u001b[0m                            Traceback (most recent call last)",
      "\u001b[0;32m<ipython-input-8-7d5a062cd40d>\u001b[0m in \u001b[0;36m<module>\u001b[0;34m()\u001b[0m\n\u001b[1;32m     10\u001b[0m \u001b[0mcerebro\u001b[0m\u001b[0;34m.\u001b[0m\u001b[0mbroker\u001b[0m\u001b[0;34m.\u001b[0m\u001b[0msetcommission\u001b[0m\u001b[0;34m(\u001b[0m\u001b[0mcommission\u001b[0m\u001b[0;34m=\u001b[0m\u001b[0;36m0.001\u001b[0m\u001b[0;34m)\u001b[0m\u001b[0;34m\u001b[0m\u001b[0m\n\u001b[1;32m     11\u001b[0m \u001b[0mcerebro\u001b[0m\u001b[0;34m.\u001b[0m\u001b[0mrun\u001b[0m\u001b[0;34m(\u001b[0m\u001b[0;34m)\u001b[0m\u001b[0;34m\u001b[0m\u001b[0m\n\u001b[0;32m---> 12\u001b[0;31m \u001b[0mcerebro\u001b[0m\u001b[0;34m.\u001b[0m\u001b[0mplot\u001b[0m\u001b[0;34m(\u001b[0m\u001b[0;34m)\u001b[0m\u001b[0;34m\u001b[0m\u001b[0m\n\u001b[0m",
      "\u001b[0;32m/Users/yugan/anaconda2/envs/bktrader/lib/python2.7/site-packages/backtrader/cerebro.pyc\u001b[0m in \u001b[0;36mplot\u001b[0;34m(self, plotter, numfigs, iplot, useplotly, **kwargs)\u001b[0m\n\u001b[1;32m    657\u001b[0m                 rfig = plotter.plot(strat, figid=si * 100,\n\u001b[1;32m    658\u001b[0m                                     \u001b[0mnumfigs\u001b[0m\u001b[0;34m=\u001b[0m\u001b[0mnumfigs\u001b[0m\u001b[0;34m,\u001b[0m \u001b[0miplot\u001b[0m\u001b[0;34m=\u001b[0m\u001b[0miplot\u001b[0m\u001b[0;34m,\u001b[0m\u001b[0;34m\u001b[0m\u001b[0m\n\u001b[0;32m--> 659\u001b[0;31m                                     useplotly=useplotly)\n\u001b[0m\u001b[1;32m    660\u001b[0m                 \u001b[0;31m# pfillers=pfillers2)\u001b[0m\u001b[0;34m\u001b[0m\u001b[0;34m\u001b[0m\u001b[0m\n\u001b[1;32m    661\u001b[0m \u001b[0;34m\u001b[0m\u001b[0m\n",
      "\u001b[0;32m/Users/yugan/anaconda2/envs/bktrader/lib/python2.7/site-packages/backtrader/plot/plot.pyc\u001b[0m in \u001b[0;36mplot\u001b[0;34m(self, strategy, figid, numfigs, iplot, useplotly)\u001b[0m\n\u001b[1;32m    112\u001b[0m     \u001b[0;32mdef\u001b[0m \u001b[0mplot\u001b[0m\u001b[0;34m(\u001b[0m\u001b[0mself\u001b[0m\u001b[0;34m,\u001b[0m \u001b[0mstrategy\u001b[0m\u001b[0;34m,\u001b[0m \u001b[0mfigid\u001b[0m\u001b[0;34m=\u001b[0m\u001b[0;36m0\u001b[0m\u001b[0;34m,\u001b[0m \u001b[0mnumfigs\u001b[0m\u001b[0;34m=\u001b[0m\u001b[0;36m1\u001b[0m\u001b[0;34m,\u001b[0m \u001b[0miplot\u001b[0m\u001b[0;34m=\u001b[0m\u001b[0mTrue\u001b[0m\u001b[0;34m,\u001b[0m \u001b[0museplotly\u001b[0m\u001b[0;34m=\u001b[0m\u001b[0mFalse\u001b[0m\u001b[0;34m)\u001b[0m\u001b[0;34m:\u001b[0m\u001b[0;34m\u001b[0m\u001b[0m\n\u001b[1;32m    113\u001b[0m         \u001b[0;31m# pfillers={}):\u001b[0m\u001b[0;34m\u001b[0m\u001b[0;34m\u001b[0m\u001b[0m\n\u001b[0;32m--> 114\u001b[0;31m         \u001b[0;32mif\u001b[0m \u001b[0;32mnot\u001b[0m \u001b[0mstrategy\u001b[0m\u001b[0;34m.\u001b[0m\u001b[0mdatas\u001b[0m\u001b[0;34m:\u001b[0m\u001b[0;34m\u001b[0m\u001b[0m\n\u001b[0m\u001b[1;32m    115\u001b[0m             \u001b[0;32mreturn\u001b[0m\u001b[0;34m\u001b[0m\u001b[0m\n\u001b[1;32m    116\u001b[0m \u001b[0;34m\u001b[0m\u001b[0m\n",
      "\u001b[0;31mAttributeError\u001b[0m: 'OptReturn' object has no attribute 'datas'"
     ]
    }
   ],
   "source": [
    "cerebro = bt.Cerebro()\n",
    "\n",
    "data = bt.feeds.YahooFinanceData(dataname='600019.SS', fromdate=datetime.datetime(2000, 1, 1),\n",
    "                             todate=date_parser.parse('2001-06-30'), reverse=True)\n",
    "\n",
    "cerebro.adddata(data)\n",
    "cerebro.addsizer(bt.sizers.FixedSize, stake=5)\n",
    "strats = cerebro.optstrategy(TestStrategy, maperiod=range(10,31))\n",
    "cerebro.broker.set_cash(100)\n",
    "cerebro.broker.setcommission(commission=0.001)\n",
    "cerebro.run()\n"
   ]
  },
  {
   "cell_type": "code",
   "execution_count": 9,
   "metadata": {
    "collapsed": false
   },
   "outputs": [
    {
     "data": {
      "text/plain": [
       "['__call__',\n",
       " '__class__',\n",
       " '__delattr__',\n",
       " '__dict__',\n",
       " '__doc__',\n",
       " '__format__',\n",
       " '__getattribute__',\n",
       " '__getstate__',\n",
       " '__hash__',\n",
       " '__init__',\n",
       " '__module__',\n",
       " '__new__',\n",
       " '__reduce__',\n",
       " '__reduce_ex__',\n",
       " '__repr__',\n",
       " '__setattr__',\n",
       " '__sizeof__',\n",
       " '__str__',\n",
       " '__subclasshook__',\n",
       " '__weakref__',\n",
       " '_broker',\n",
       " '_brokernotify',\n",
       " '_dataid',\n",
       " '_datanotify',\n",
       " '_dolive',\n",
       " '_dooptimize',\n",
       " '_dopreload',\n",
       " '_doreplay',\n",
       " '_dorunonce',\n",
       " '_event_stop',\n",
       " '_exactbars',\n",
       " '_next_writers',\n",
       " '_notify_data',\n",
       " '_notify_store',\n",
       " '_runnext',\n",
       " '_runnext_old',\n",
       " '_runonce',\n",
       " '_runonce_old',\n",
       " '_signal_accumulate',\n",
       " '_signal_concurrent',\n",
       " '_signal_strat',\n",
       " '_storenotify',\n",
       " 'add_signal',\n",
       " 'addanalyzer',\n",
       " 'adddata',\n",
       " 'adddatacb',\n",
       " 'addindicator',\n",
       " 'addobserver',\n",
       " 'addobservermulti',\n",
       " 'addsizer',\n",
       " 'addsizer_byidx',\n",
       " 'addstore',\n",
       " 'addstorecb',\n",
       " 'addstrategy',\n",
       " 'addwriter',\n",
       " 'analyzers',\n",
       " 'broker',\n",
       " 'chaindata',\n",
       " 'datacbs',\n",
       " 'datas',\n",
       " 'datasbyname',\n",
       " 'feeds',\n",
       " 'getbroker',\n",
       " 'indicators',\n",
       " 'iterize',\n",
       " 'notify_data',\n",
       " 'notify_store',\n",
       " 'observers',\n",
       " 'optcallback',\n",
       " 'optcbs',\n",
       " 'optstrategy',\n",
       " 'p',\n",
       " 'params',\n",
       " 'plot',\n",
       " 'plotly',\n",
       " 'replaydata',\n",
       " 'resampledata',\n",
       " 'rolloverdata',\n",
       " 'run',\n",
       " 'runstop',\n",
       " 'runstrategies',\n",
       " 'runstrats',\n",
       " 'runwriters',\n",
       " 'setbroker',\n",
       " 'signal_accumulate',\n",
       " 'signal_concurrent',\n",
       " 'signal_strategy',\n",
       " 'signals',\n",
       " 'sizers',\n",
       " 'stop_writers',\n",
       " 'storecbs',\n",
       " 'stores',\n",
       " 'strats',\n",
       " 'writers',\n",
       " 'writers_csv']"
      ]
     },
     "execution_count": 9,
     "metadata": {},
     "output_type": "execute_result"
    }
   ],
   "source": [
    "dir(cerebro)"
   ]
  },
  {
   "cell_type": "code",
   "execution_count": null,
   "metadata": {
    "collapsed": true
   },
   "outputs": [],
   "source": []
  }
 ],
 "metadata": {
  "anaconda-cloud": {},
  "kernelspec": {
   "display_name": "Python [conda env:bktrader]",
   "language": "python",
   "name": "conda-env-bktrader-py"
  },
  "language_info": {
   "codemirror_mode": {
    "name": "ipython",
    "version": 2
   },
   "file_extension": ".py",
   "mimetype": "text/x-python",
   "name": "python",
   "nbconvert_exporter": "python",
   "pygments_lexer": "ipython2",
   "version": "2.7.12"
  }
 },
 "nbformat": 4,
 "nbformat_minor": 2
}
