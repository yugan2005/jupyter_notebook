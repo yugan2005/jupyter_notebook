{
 "cells": [
  {
   "cell_type": "code",
   "execution_count": null,
   "metadata": {
    "collapsed": false
   },
   "outputs": [],
   "source": [
    "import os\n",
    "import pandas as pd\n",
    "import numpy as np\n",
    "import math\n",
    "import plotly.plotly as py\n",
    "import plotly.offline as po\n",
    "import plotly.graph_objs as go\n",
    "import plotly.tools as tls\n",
    "import colorlover as cl\n",
    "import cufflinks as cf\n",
    "import subprocess\n",
    "from ipywidgets import interact\n",
    "import glob\n",
    "from IPython.display import display, HTML\n",
    "from datetime import datetime\n",
    "\n",
    "%matplotlib auto\n",
    "po.init_notebook_mode()\n",
    "cf.set_config_file(theme='white')\n",
    "pd.options.display.float_format = '{:.2f}'.format\n",
    "pd.set_option('display.max_rows', 999)\n",
    "\n",
    "import pandas_datareader.data as web\n",
    "import talib as ta"
   ]
  },
  {
   "cell_type": "code",
   "execution_count": null,
   "metadata": {
    "collapsed": true
   },
   "outputs": [],
   "source": [
    "def MACD(df, slow_period = 26, fast_period = 12, dif_period = 9):\n",
    "    slow_EMA = df.ewm(span=slow_period, min_periods=0, adjust=False).mean()\n",
    "    fast_EMA = df.ewm(span=fast_period, min_periods=0, adjust=False).mean()\n",
    "    dif = fast_EMA - slow_EMA\n",
    "    dea = dif.ewm(span=dif_period, min_periods=0, adjust=False).mean()\n",
    "    macd = (dif-dea)*2\n",
    "    return macd.to_frame(name='MACD')"
   ]
  },
  {
   "cell_type": "code",
   "execution_count": null,
   "metadata": {
    "collapsed": true
   },
   "outputs": [],
   "source": [
    "def KDJ(df, N=9, M1=3, M2=3):\n",
    "    RSV = ((df.Close - df.Low.rolling(N, min_periods=0).min())\n",
    "           /(df.High.rolling(N, min_periods=0).max() - df.Low.rolling(N, min_periods=0).min())*100)\n",
    "    RSV_s = pd.Series(RSV, index=df.index)\n",
    "    K = RSV_s.ewm(alpha=1/float(3), min_periods=0, adjust=False).mean()\n",
    "    D = K.ewm(alpha=1/float(3), min_periods=0, adjust=False).mean()\n",
    "    J = 3*K - 2*D\n",
    "    return K, D, J"
   ]
  },
  {
   "cell_type": "code",
   "execution_count": null,
   "metadata": {
    "collapsed": true
   },
   "outputs": [],
   "source": [
    "def get_dwm_ochlm(scode):\n",
    "    daily = web.DataReader(scode, 'yahoo', start='1990-01-01')\n",
    "    daily = daily[daily.Volume != 0]\n",
    "    daily = daily[daily.Volume != daily.Volume.shift()]\n",
    "    days = daily.reset_index()[['Date']].set_index('Date', drop=False)\n",
    "    month_last = days.to_period('M').groupby(level=0).last()\n",
    "    week_last = days.to_period('W').groupby(level=0).last()\n",
    "    monthly = daily.resample('M').agg({'Open':'first', 'Close':'last', 'High':'max', 'Low':'min'}).dropna()\n",
    "    monthly.index = month_last['Date']\n",
    "    weekly = daily.resample('W').agg({'Open':'first', 'Close':'last', 'High':'max', 'Low':'min'}).dropna()\n",
    "    weekly.index = week_last['Date']\n",
    "\n",
    "    monthly.loc[:, 'MACD'] = MACD(monthly.Close)['MACD']\n",
    "    weekly.loc[:, 'MACD'] = MACD(weekly.Close)['MACD']\n",
    "    daily.loc[:, 'MACD'] = MACD(daily.Close)['MACD']\n",
    "\n",
    "    monthly.loc[:, 'K'], monthly.loc[:, 'D'], monthly.loc[:, 'J'] = KDJ(monthly)\n",
    "    weekly.loc[:, 'K'], weekly.loc[:, 'D'], weekly.loc[:, 'J'] = KDJ(weekly)\n",
    "    daily.loc[:, 'K'], daily.loc[:, 'D'], daily.loc[:, 'J'] = KDJ(daily)\n",
    "\n",
    "    daily.loc[:, 'Date']=daily.index\n",
    "    weekly.loc[:, 'Date']=weekly.index\n",
    "    monthly.loc[:, 'Date']=monthly.index\n",
    "    month_to_daily = monthly.reindex(daily.index, method='ffill')\n",
    "    week_to_daily = weekly.reindex(daily.index, method='ffill')\n",
    "\n",
    "    dwm_ochlm = (daily[['Date', 'High', 'Close', 'Open', 'Low', 'MACD', 'K', 'D', 'J']]\n",
    "                 .join(week_to_daily, lsuffix='_d', rsuffix='_w'))\n",
    "    dwm_ochlm = (dwm_ochlm.join(month_to_daily)\n",
    "                 .rename(columns=\n",
    "                         {'High':'High_m', 'Close':'Close_m', 'Open':'Open_m',\n",
    "                          'Low':'Low_m', 'MACD':'MACD_m', 'Date':'Date_m',\n",
    "                          'K':'K_m', 'D':'D_m', 'J':'J_m'}))\n",
    "\n",
    "    dwm_ochlm = dwm_ochlm.dropna()\n",
    "\n",
    "    dwm_ochlm.loc[:, 'grp_d'] = (dwm_ochlm.MACD_d * dwm_ochlm.MACD_d.shift() <0).cumsum()\n",
    "    dwm_ochlm.loc[:, 'm_neg_d'] = (dwm_ochlm.MACD_d <0)\n",
    "    dwm_ochlm.loc[:, 'grp_w'] = (dwm_ochlm.MACD_w * dwm_ochlm.MACD_w.shift() <0).cumsum()\n",
    "    dwm_ochlm.loc[:, 'm_neg_w'] = (dwm_ochlm.MACD_w <0)\n",
    "    dwm_ochlm.loc[:, 'grp_m'] = (dwm_ochlm.MACD_m * dwm_ochlm.MACD_m.shift() <0).cumsum()\n",
    "    dwm_ochlm.loc[:, 'm_neg_m'] = (dwm_ochlm.MACD_m <0)\n",
    "    return dwm_ochlm"
   ]
  },
  {
   "cell_type": "code",
   "execution_count": null,
   "metadata": {
    "collapsed": true
   },
   "outputs": [],
   "source": [
    "def get_plot(scode, endtime):\n",
    "    dwm_ochlm = get_dwm_ochlm(scode)\n",
    "    y_max = dwm_ochlm.High_d.max()\n",
    "    y_min = dwm_ochlm.Low_d.min()\n",
    "    m_region_date_w = dwm_ochlm[['Date_d', 'grp_w']].groupby('grp_w').first()\n",
    "    m_region_date_m = dwm_ochlm[['Date_d', 'grp_m']].groupby('grp_m').first()\n",
    "    trace_vlines = []\n",
    "    for i in range(len(m_region_date_w)):\n",
    "        vline_w = go.Scatter(x=[m_region_date_w.Date_d.iloc[i], m_region_date_w.Date_d.iloc[i]],\n",
    "                             y=[y_min, y_max],\n",
    "                             mode='lines',\n",
    "                             line=go.Line(color='green', width=0.5),\n",
    "                             showlegend=False,\n",
    "                             name = '')\n",
    "        trace_vlines.append(vline_w)\n",
    "\n",
    "    for i in range(len(m_region_date_m)):\n",
    "        vline_m = go.Scatter(x=[m_region_date_m.Date_d.iloc[i], m_region_date_m.Date_d.iloc[i]],\n",
    "                             y=[y_min, y_max],\n",
    "                             mode='lines',\n",
    "                             line=go.Line(color='red', width=0.5),\n",
    "                             showlegend=False, \n",
    "                             name = '')\n",
    "        trace_vlines.append(vline_m)\n",
    "\n",
    "    trace_all = trace_vlines\n",
    "\n",
    "    trace_h_w = go.Scatter(x=dwm_ochlm.Date_w, y=dwm_ochlm.High_w,\n",
    "                           line=go.Line(width=0.5, dash = 'dot', color='orange'),\n",
    "                           name = '周线最高值',\n",
    "                           legendgroup='周线')\n",
    "    trace_l_w = go.Scatter(x=dwm_ochlm.Date_w, y=dwm_ochlm.Low_w,\n",
    "                           line=go.Line(width=0.5, dash = 'dash', color='orange'),\n",
    "                           name = '周线最低值',\n",
    "                           legendgroup='周线')\n",
    "    trace_c_w = go.Scatter(x=dwm_ochlm.Date_w, y=dwm_ochlm.Close_w,\n",
    "                           line=go.Line(color='orange'),\n",
    "                           name = '周线收盘',\n",
    "                           legendgroup='周线')\n",
    "    trace_h_d = go.Scatter(x=dwm_ochlm.Date_d, y=dwm_ochlm.High_d,\n",
    "                           line=go.Line(width=0.5, dash = 'dot', color='orchid'),\n",
    "                           name = '日线最高值',\n",
    "                           legendgroup='日线')\n",
    "    trace_l_d = go.Scatter(x=dwm_ochlm.Date_d, y=dwm_ochlm.Low_d,\n",
    "                           line=go.Line(width=0.5, dash = 'dash', color='orchid'),\n",
    "                           name = '日线最低值',\n",
    "                           legendgroup='日线')\n",
    "    trace_c_d = go.Scatter(x=dwm_ochlm.Date_d, y=dwm_ochlm.Close_d,\n",
    "                           line=go.Line(color='orchid'),\n",
    "                           name = '日线收盘',\n",
    "                           legendgroup='日线')\n",
    "    trace_h_m = go.Scatter(x=dwm_ochlm.Date_m, y=dwm_ochlm.High_m,\n",
    "                           line=go.Line(width=0.5, dash = 'dot', color='steelblue'),\n",
    "                           name = '月线最高值',\n",
    "                           legendgroup='月线')\n",
    "    trace_l_m = go.Scatter(x=dwm_ochlm.Date_m, y=dwm_ochlm.Low_m,\n",
    "                           line=go.Line(width=0.5, dash = 'dash', color='steelblue'),\n",
    "                           name = '月线最低值',\n",
    "                           legendgroup='月线')\n",
    "    trace_c_m = go.Scatter(x=dwm_ochlm.Date_m, y=dwm_ochlm.Close_m,\n",
    "                           line=go.Line(color='steelblue'),\n",
    "                           name = '月线收盘',\n",
    "                           legendgroup='月线')\n",
    "\n",
    "    trace_all += [trace_h_w, trace_l_w, trace_c_w, trace_h_d, trace_l_d, trace_c_d,trace_h_m, trace_l_m, trace_c_m]\n",
    "\n",
    "    trace_macd_w = go.Scatter(x=dwm_ochlm.Date_w, y=dwm_ochlm.MACD_w,\n",
    "                              line=go.Line(color='orange'),\n",
    "                              name = '周线MACD',\n",
    "                              yaxis='y2')\n",
    "    trace_macd_d = go.Scatter(x=dwm_ochlm.Date_d, y=dwm_ochlm.MACD_d,\n",
    "                              line=go.Line(color='orchid'),\n",
    "                              name = '日线MACD',\n",
    "                              yaxis='y2')\n",
    "    trace_macd_m = go.Scatter(x=dwm_ochlm.Date_m, y=dwm_ochlm.MACD_m,\n",
    "                              line=go.Line(color='steelblue'),\n",
    "                              name = '月线MACD',\n",
    "                              yaxis='y2')\n",
    "\n",
    "    trace_all += [trace_macd_w, trace_macd_d, trace_macd_m]\n",
    "\n",
    "    trace_k_w = go.Scatter(x=dwm_ochlm.Date_w, y=dwm_ochlm.K_w,\n",
    "                           line=go.Line(width=0.5, dash = 'dot', color='orange'),\n",
    "                           name = '周线K',\n",
    "                           yaxis='y3',\n",
    "                           legendgroup='周线KDJ')\n",
    "\n",
    "    trace_d_w = go.Scatter(x=dwm_ochlm.Date_w, y=dwm_ochlm.D_w,\n",
    "                           line=go.Line(width=0.5, dash = 'dash', color='orange'),\n",
    "                           name = '周线D',\n",
    "                           yaxis='y3',\n",
    "                           legendgroup='周线KDJ')\n",
    "    trace_j_w = go.Scatter(x=dwm_ochlm.Date_w, y=dwm_ochlm.J_w,\n",
    "                           line=go.Line(color='orange'),\n",
    "                           name = '周线J',\n",
    "                           yaxis='y3',\n",
    "                           legendgroup='周线KDJ')\n",
    "\n",
    "    trace_k_d = go.Scatter(x=dwm_ochlm.Date_d, y=dwm_ochlm.K_d,\n",
    "                           line=go.Line(width=0.5, dash = 'dot', color='orchid'),\n",
    "                           name = '日线K',\n",
    "                           yaxis='y3',\n",
    "                           legendgroup='日线KDJ')\n",
    "    trace_d_d = go.Scatter(x=dwm_ochlm.Date_d, y=dwm_ochlm.D_d,\n",
    "                           line=go.Line(width=0.5, dash = 'dash', color='orchid'),\n",
    "                           name = '日线D',\n",
    "                           yaxis='y3',\n",
    "                           legendgroup='日线KDJ')\n",
    "    trace_j_d = go.Scatter(x=dwm_ochlm.Date_d, y=dwm_ochlm.J_d,\n",
    "                           line=go.Line(color='orchid'),\n",
    "                           name = '日线J',\n",
    "                           yaxis='y3',\n",
    "                           legendgroup='日线KDJ')\n",
    "    trace_k_m = go.Scatter(x=dwm_ochlm.Date_m, y=dwm_ochlm.K_m,\n",
    "                           line=go.Line(width=0.5, dash = 'dot', color='steelblue'),\n",
    "                           name = '月线K',\n",
    "                           yaxis='y3',\n",
    "                           legendgroup='月线KDJ')\n",
    "    trace_d_m = go.Scatter(x=dwm_ochlm.Date_m, y=dwm_ochlm.D_m,\n",
    "                           line=go.Line(width=0.5, dash = 'dash', color='steelblue'),\n",
    "                           name = '月线D',\n",
    "                           yaxis='y3',\n",
    "                           legendgroup='月线KDJ')\n",
    "    trace_j_m = go.Scatter(x=dwm_ochlm.Date_m, y=dwm_ochlm.J_m,\n",
    "                           line=go.Line(color='steelblue'),\n",
    "                           name = '月线J',  \n",
    "                           yaxis='y3',\n",
    "                           legendgroup='月线KDJ')\n",
    "\n",
    "    trace_all += [trace_k_w, trace_d_w, trace_j_w, trace_k_d, trace_d_d, trace_j_d, trace_k_m, trace_d_m, trace_j_m]\n",
    "    x_show_range=[dwm_ochlm.Date_d[0].value/1e6, pd.Timestamp(endtime).value/1e6]\n",
    "    y_show_range =[dwm_ochlm.loc[dwm_ochlm.Date_d < pd.Timestamp(endtime), 'Low_d'].min(),\n",
    "                   dwm_ochlm.loc[dwm_ochlm.Date_d < pd.Timestamp(endtime), 'High_d'].max()*1.05]\n",
    "    layout = go.Layout(yaxis=dict(domain=[0, 0.6],\n",
    "                                  range=y_show_range),\n",
    "                       yaxis2=dict(domain=[0.6, 0.8]),\n",
    "                       yaxis3=dict(domain=[0.8, 1]),\n",
    "                       height=1000,\n",
    "                       legend=dict(traceorder='reversed'),\n",
    "                       xaxis=dict(range=x_show_range))\n",
    "\n",
    "    fig = go.Figure(data = trace_all, layout=layout)\n",
    "    po.iplot(fig, show_link=False)"
   ]
  },
  {
   "cell_type": "code",
   "execution_count": null,
   "metadata": {
    "collapsed": false
   },
   "outputs": [],
   "source": [
    "scode='600019.SS'\n",
    "endtime= '2006-10-31'\n",
    "get_plot(scode, endtime)"
   ]
  },
  {
   "cell_type": "code",
   "execution_count": null,
   "metadata": {
    "collapsed": false
   },
   "outputs": [],
   "source": [
    "scode='601099.SS'\n",
    "endtime= '2015-04-01'\n",
    "get_plot(scode, endtime)"
   ]
  },
  {
   "cell_type": "code",
   "execution_count": null,
   "metadata": {
    "collapsed": false
   },
   "outputs": [],
   "source": [
    "scode='002024.SZ'\n",
    "endtime= '2008-03-03'\n",
    "get_plot(scode, endtime)"
   ]
  },
  {
   "cell_type": "code",
   "execution_count": null,
   "metadata": {
    "collapsed": false
   },
   "outputs": [],
   "source": [
    "scode='300104.SZ'\n",
    "endtime= '2015-01-26'\n",
    "get_plot(scode, endtime)"
   ]
  },
  {
   "cell_type": "code",
   "execution_count": null,
   "metadata": {
    "collapsed": true
   },
   "outputs": [],
   "source": []
  },
  {
   "cell_type": "code",
   "execution_count": null,
   "metadata": {
    "collapsed": true
   },
   "outputs": [],
   "source": []
  }
 ],
 "metadata": {
  "anaconda-cloud": {
   "environment": null,
   "summary": "teaching",
   "url": "https://anaconda.org/yugan2005/teaching"
  },
  "kernelspec": {
   "display_name": "Python [personalProject]",
   "language": "python",
   "name": "Python [personalProject]"
  },
  "language_info": {
   "codemirror_mode": {
    "name": "ipython",
    "version": 2
   },
   "file_extension": ".py",
   "mimetype": "text/x-python",
   "name": "python",
   "nbconvert_exporter": "python",
   "pygments_lexer": "ipython2",
   "version": "2.7.12"
  }
 },
 "nbformat": 4,
 "nbformat_minor": 0
}
